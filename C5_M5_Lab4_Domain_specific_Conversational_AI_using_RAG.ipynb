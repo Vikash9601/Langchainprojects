{
 "cells": [
  {
   "cell_type": "markdown",
   "metadata": {
    "id": "5VINCOgWAVf1"
   },
   "source": [
    "# Lab objective: Implementation of Domain-specific Conversational AI"
   ]
  },
  {
   "cell_type": "markdown",
   "metadata": {
    "id": "voisdc1xHGr2"
   },
   "source": [
    "### Installing Langchain and Related Dependencies for NLP Applications"
   ]
  },
  {
   "cell_type": "code",
   "execution_count": 2,
   "metadata": {
    "colab": {
     "base_uri": "https://localhost:8080/"
    },
    "id": "gJ3B-PcQ_3gu",
    "outputId": "dcb04146-4706-4728-e9ad-c007033fc383"
   },
   "outputs": [
    {
     "name": "stdout",
     "output_type": "stream",
     "text": [
      "Requirement already satisfied: langchain==0.1.11 in c:\\users\\vikas_u1mfwb3\\appdata\\roaming\\python\\python312\\site-packages (0.1.11)\n",
      "Requirement already satisfied: langchain_community in c:\\python312\\lib\\site-packages (0.0.29)\n",
      "Collecting langchain_openai\n",
      "  Downloading langchain_openai-0.1.6-py3-none-any.whl.metadata (2.5 kB)\n",
      "Requirement already satisfied: pinecone-client==3.1.0 in c:\\python312\\lib\\site-packages (3.1.0)\n",
      "Requirement already satisfied: langchain_pinecone in c:\\users\\vikas_u1mfwb3\\appdata\\roaming\\python\\python312\\site-packages (0.0.3)\n",
      "Requirement already satisfied: pypdf in c:\\python312\\lib\\site-packages (4.1.0)\n",
      "Requirement already satisfied: PyYAML>=5.3 in c:\\python312\\lib\\site-packages (from langchain==0.1.11) (6.0.1)\n",
      "Requirement already satisfied: SQLAlchemy<3,>=1.4 in c:\\python312\\lib\\site-packages (from langchain==0.1.11) (2.0.28)\n",
      "Requirement already satisfied: aiohttp<4.0.0,>=3.8.3 in c:\\python312\\lib\\site-packages (from langchain==0.1.11) (3.9.3)\n",
      "Requirement already satisfied: dataclasses-json<0.7,>=0.5.7 in c:\\python312\\lib\\site-packages (from langchain==0.1.11) (0.6.4)\n",
      "Requirement already satisfied: jsonpatch<2.0,>=1.33 in c:\\python312\\lib\\site-packages (from langchain==0.1.11) (1.33)\n",
      "Requirement already satisfied: langchain-core<0.2,>=0.1.29 in c:\\python312\\lib\\site-packages (from langchain==0.1.11) (0.1.33)\n",
      "Requirement already satisfied: langchain-text-splitters<0.1,>=0.0.1 in c:\\users\\vikas_u1mfwb3\\appdata\\roaming\\python\\python312\\site-packages (from langchain==0.1.11) (0.0.1)\n",
      "Requirement already satisfied: langsmith<0.2.0,>=0.1.17 in c:\\users\\vikas_u1mfwb3\\appdata\\roaming\\python\\python312\\site-packages (from langchain==0.1.11) (0.1.23)\n",
      "Requirement already satisfied: numpy<2,>=1 in c:\\python312\\lib\\site-packages (from langchain==0.1.11) (1.26.3)\n",
      "Requirement already satisfied: pydantic<3,>=1 in c:\\python312\\lib\\site-packages (from langchain==0.1.11) (2.6.3)\n",
      "Requirement already satisfied: requests<3,>=2 in c:\\python312\\lib\\site-packages (from langchain==0.1.11) (2.31.0)\n",
      "Requirement already satisfied: tenacity<9.0.0,>=8.1.0 in c:\\python312\\lib\\site-packages (from langchain==0.1.11) (8.2.3)\n",
      "Requirement already satisfied: certifi>=2019.11.17 in c:\\python312\\lib\\site-packages (from pinecone-client==3.1.0) (2023.11.17)\n",
      "Requirement already satisfied: tqdm>=4.64.1 in c:\\python312\\lib\\site-packages (from pinecone-client==3.1.0) (4.66.2)\n",
      "Requirement already satisfied: typing-extensions>=3.7.4 in c:\\python312\\lib\\site-packages (from pinecone-client==3.1.0) (4.9.0)\n",
      "Requirement already satisfied: urllib3>=1.26.5 in c:\\python312\\lib\\site-packages (from pinecone-client==3.1.0) (2.2.1)\n",
      "Collecting langchain-core<0.2,>=0.1.29 (from langchain==0.1.11)\n",
      "  Downloading langchain_core-0.1.52-py3-none-any.whl.metadata (5.9 kB)\n",
      "Requirement already satisfied: openai<2.0.0,>=1.24.0 in c:\\users\\vikas_u1mfwb3\\appdata\\roaming\\python\\python312\\site-packages (from langchain_openai) (1.26.0)\n",
      "Requirement already satisfied: tiktoken<1,>=0.5.2 in c:\\users\\vikas_u1mfwb3\\appdata\\roaming\\python\\python312\\site-packages (from langchain_openai) (0.6.0)\n",
      "Requirement already satisfied: aiosignal>=1.1.2 in c:\\python312\\lib\\site-packages (from aiohttp<4.0.0,>=3.8.3->langchain==0.1.11) (1.3.1)\n",
      "Requirement already satisfied: attrs>=17.3.0 in c:\\python312\\lib\\site-packages (from aiohttp<4.0.0,>=3.8.3->langchain==0.1.11) (23.2.0)\n",
      "Requirement already satisfied: frozenlist>=1.1.1 in c:\\python312\\lib\\site-packages (from aiohttp<4.0.0,>=3.8.3->langchain==0.1.11) (1.4.1)\n",
      "Requirement already satisfied: multidict<7.0,>=4.5 in c:\\python312\\lib\\site-packages (from aiohttp<4.0.0,>=3.8.3->langchain==0.1.11) (6.0.5)\n",
      "Requirement already satisfied: yarl<2.0,>=1.0 in c:\\python312\\lib\\site-packages (from aiohttp<4.0.0,>=3.8.3->langchain==0.1.11) (1.9.4)\n",
      "Requirement already satisfied: marshmallow<4.0.0,>=3.18.0 in c:\\python312\\lib\\site-packages (from dataclasses-json<0.7,>=0.5.7->langchain==0.1.11) (3.20.2)\n",
      "Requirement already satisfied: typing-inspect<1,>=0.4.0 in c:\\python312\\lib\\site-packages (from dataclasses-json<0.7,>=0.5.7->langchain==0.1.11) (0.9.0)\n",
      "Requirement already satisfied: jsonpointer>=1.9 in c:\\python312\\lib\\site-packages (from jsonpatch<2.0,>=1.33->langchain==0.1.11) (2.4)\n",
      "Requirement already satisfied: packaging<24.0,>=23.2 in c:\\python312\\lib\\site-packages (from langchain-core<0.2,>=0.1.29->langchain==0.1.11) (23.2)\n",
      "Requirement already satisfied: orjson<4.0.0,>=3.9.14 in c:\\python312\\lib\\site-packages (from langsmith<0.2.0,>=0.1.17->langchain==0.1.11) (3.9.15)\n",
      "Requirement already satisfied: anyio<5,>=3.5.0 in c:\\python312\\lib\\site-packages (from openai<2.0.0,>=1.24.0->langchain_openai) (4.3.0)\n",
      "Requirement already satisfied: distro<2,>=1.7.0 in c:\\users\\vikas_u1mfwb3\\appdata\\roaming\\python\\python312\\site-packages (from openai<2.0.0,>=1.24.0->langchain_openai) (1.9.0)\n",
      "Requirement already satisfied: httpx<1,>=0.23.0 in c:\\python312\\lib\\site-packages (from openai<2.0.0,>=1.24.0->langchain_openai) (0.27.0)\n",
      "Requirement already satisfied: sniffio in c:\\python312\\lib\\site-packages (from openai<2.0.0,>=1.24.0->langchain_openai) (1.3.0)\n",
      "Requirement already satisfied: annotated-types>=0.4.0 in c:\\python312\\lib\\site-packages (from pydantic<3,>=1->langchain==0.1.11) (0.6.0)\n",
      "Requirement already satisfied: pydantic-core==2.16.3 in c:\\users\\vikas_u1mfwb3\\appdata\\roaming\\python\\python312\\site-packages (from pydantic<3,>=1->langchain==0.1.11) (2.16.3)\n",
      "Requirement already satisfied: charset-normalizer<4,>=2 in c:\\python312\\lib\\site-packages (from requests<3,>=2->langchain==0.1.11) (3.3.2)\n",
      "Requirement already satisfied: idna<4,>=2.5 in c:\\python312\\lib\\site-packages (from requests<3,>=2->langchain==0.1.11) (3.6)\n",
      "Requirement already satisfied: greenlet!=0.4.17 in c:\\python312\\lib\\site-packages (from SQLAlchemy<3,>=1.4->langchain==0.1.11) (3.0.3)\n",
      "Requirement already satisfied: regex>=2022.1.18 in c:\\python312\\lib\\site-packages (from tiktoken<1,>=0.5.2->langchain_openai) (2023.12.25)\n",
      "Requirement already satisfied: colorama in c:\\python312\\lib\\site-packages (from tqdm>=4.64.1->pinecone-client==3.1.0) (0.4.6)\n",
      "Requirement already satisfied: httpcore==1.* in c:\\python312\\lib\\site-packages (from httpx<1,>=0.23.0->openai<2.0.0,>=1.24.0->langchain_openai) (1.0.4)\n",
      "Requirement already satisfied: h11<0.15,>=0.13 in c:\\python312\\lib\\site-packages (from httpcore==1.*->httpx<1,>=0.23.0->openai<2.0.0,>=1.24.0->langchain_openai) (0.14.0)\n",
      "Requirement already satisfied: mypy-extensions>=0.3.0 in c:\\python312\\lib\\site-packages (from typing-inspect<1,>=0.4.0->dataclasses-json<0.7,>=0.5.7->langchain==0.1.11) (1.0.0)\n",
      "Downloading langchain_openai-0.1.6-py3-none-any.whl (34 kB)\n",
      "Downloading langchain_core-0.1.52-py3-none-any.whl (302 kB)\n",
      "   ---------------------------------------- 0.0/302.9 kB ? eta -:--:--\n",
      "   ---- ----------------------------------- 30.7/302.9 kB 1.3 MB/s eta 0:00:01\n",
      "   ------------ --------------------------- 92.2/302.9 kB 1.3 MB/s eta 0:00:01\n",
      "   ------------------ --------------------- 143.4/302.9 kB 1.1 MB/s eta 0:00:01\n",
      "   --------------------------------- ------ 256.0/302.9 kB 1.3 MB/s eta 0:00:01\n",
      "   ---------------------------------------  297.0/302.9 kB 1.3 MB/s eta 0:00:01\n",
      "   ---------------------------------------- 302.9/302.9 kB 1.3 MB/s eta 0:00:00\n",
      "Installing collected packages: langchain-core, langchain_openai\n",
      "  Attempting uninstall: langchain-core\n",
      "    Found existing installation: langchain-core 0.1.33\n",
      "    Uninstalling langchain-core-0.1.33:\n",
      "      Successfully uninstalled langchain-core-0.1.33\n",
      "Successfully installed langchain-core-0.1.52 langchain_openai-0.1.6\n"
     ]
    },
    {
     "name": "stderr",
     "output_type": "stream",
     "text": [
      "ERROR: pip's dependency resolver does not currently take into account all the packages that are installed. This behaviour is the source of the following dependency conflicts.\n",
      "pirate-speak 0.0.1 requires langchain-community<0.0.8,>=0.0.7, but you have langchain-community 0.0.29 which is incompatible.\n"
     ]
    }
   ],
   "source": [
    "!pip install langchain==0.1.11 langchain_community langchain_openai pinecone-client==3.1.0 langchain_pinecone pypdf\n"
   ]
  },
  {
   "cell_type": "markdown",
   "metadata": {
    "id": "mk-FZRU-HPAr"
   },
   "source": [
    "### Setting Environment Variables for OpenAI and Pinecone API Access\n",
    "\n",
    "This code configures the system environment to include access keys for OpenAI and Pinecone, necessary for authenticating API requests in programming tasks that interact with these services."
   ]
  },
  {
   "cell_type": "code",
   "execution_count": 10,
   "metadata": {
    "id": "vYvLG4uXA8Z7"
   },
   "outputs": [],
   "source": [
    "import os\n",
    "\n",
    "os.environ[\"OPENAI_API_KEY\"]=\"your_openai_api_key\"\n",
    "\n",
    "os.environ[\"PINECONE_API_KEY\"]=\"your_pinecone_api_key\"\n"
   ]
  },
  {
   "cell_type": "markdown",
   "metadata": {
    "id": "zCrtGW_kHYS1"
   },
   "source": [
    "### Initializing a Recursive Text Splitter with OpenAI Embeddings\n",
    "\n",
    "This code initializes a RecursiveCharacterTextSplitter object from the LangChain library, configured to split text into 500-character chunks with a 100-character overlap.\n",
    "\n",
    "It uses a hierarchy of separators (double newline, newline, period-space, and space) to determine the best places to divide the text. This setup is tailored for efficiently processing and managing large texts by breaking them into manageable parts."
   ]
  },
  {
   "cell_type": "code",
   "execution_count": 4,
   "metadata": {
    "id": "5x2K79XjBVoc"
   },
   "outputs": [],
   "source": [
    "# Import the RecursiveCharacterTextSplitter class.\n",
    "from langchain.text_splitter import RecursiveCharacterTextSplitter\n",
    "from langchain.embeddings.openai import OpenAIEmbeddings\n",
    "# Initialize a RecursiveCharacterTextSplitter with specified separators and configurations.\n",
    "# The text will be split into chunks around 1000 characters long, with a 20-character overlap between chunks.\n",
    "\n",
    "character_splitter = RecursiveCharacterTextSplitter(\n",
    "separators=[\"\\n\\n\", \"\\n\", \". \", \" \", \"\"], # The hierarchy of separators to use for splitting.\n",
    "chunk_size=500, # Target size of each chunk in characters.\n",
    "chunk_overlap=100)\n"
   ]
  },
  {
   "cell_type": "markdown",
   "metadata": {
    "id": "APlQ5wAbHkSm"
   },
   "source": [
    "### Loading and Displaying PDF Documents with PyPDFLoader and Custom Splitting\n",
    "\n",
    "\n",
    "This code leverages the PyPDFLoader from the LangChain community tools to load and process a specified PDF document. The content is split using a predefined text splitter, organizing the PDF's text into manageable segments based on character count and overlapping sections.\n",
    "\n",
    "Additionally, a function pretty_print_docs is defined to neatly display each segment of the document, enhancing readability by inserting separators between segments for clear differentiation. This facilitates easier handling and review of the document's contents."
   ]
  },
  {
   "cell_type": "code",
   "execution_count": 5,
   "metadata": {
    "id": "N-FreuNJBfiU"
   },
   "outputs": [],
   "source": [
    "from langchain_community.document_loaders import PyPDFLoader\n",
    "\n",
    "pdf=\"Supply Chain Management.pdf\"\n",
    "\n",
    "loader = PyPDFLoader(pdf)\n",
    "docs=loader.load_and_split(text_splitter=character_splitter)\n",
    "\n",
    "def pretty_print_docs(docs):\n",
    "  print(\n",
    "  f\"\\n{'-' * 100}\\n\".join(\n",
    "  [f\"Document {i+1}:\\n\\n\" + d.page_content for i, d in enumerate(docs)]\n",
    "  )\n",
    "  )\n"
   ]
  },
  {
   "cell_type": "code",
   "execution_count": 11,
   "metadata": {},
   "outputs": [
    {
     "data": {
      "text/plain": [
       "'2c413996-7d25-4f7d-9642-b21cd8b68d21'"
      ]
     },
     "execution_count": 11,
     "metadata": {},
     "output_type": "execute_result"
    }
   ],
   "source": [
    "os.environ[\"PINECONE_API_KEY\"]"
   ]
  },
  {
   "cell_type": "markdown",
   "metadata": {
    "id": "uybiy43nHs3t"
   },
   "source": [
    "### Configuring and Managing Pinecone Indexes for Vector Storage\n",
    "\n",
    "**Pinecone Client Configuration**: The script sets up a Pinecone client using an API key and configures it for either serverless operations on AWS or a GCP environment based on the use_serverless flag.\n",
    "\n",
    "\n",
    "**Index Management**: It checks for an existing index named 'demo24' and deletes it if present, then creates a new index configured for dot product metrics and tailored to the dimensionality of embeddings.\n",
    "\n",
    "\n",
    "**Initialization Waiting:** The script waits until the newly created index is fully operational, checking its readiness and pausing execution as needed.\n"
   ]
  },
  {
   "cell_type": "code",
   "execution_count": 12,
   "metadata": {
    "id": "SzxAl9H7Brj6"
   },
   "outputs": [],
   "source": [
    "from pinecone import Pinecone, PodSpec,ServerlessSpec\n",
    "import time\n",
    "use_serverless=True\n",
    "\n",
    "# configure client\n",
    "pc = Pinecone(api_key=os.environ[\"PINECONE_API_KEY\"])\n",
    "\n",
    "if use_serverless:\n",
    "  spec = ServerlessSpec(cloud='aws', region='us-east-1')\n",
    "else:\n",
    "# if not using a starter index, you should specify a pod_type too\n",
    "  spec = PodSpec(environment='gcp-starter')\n",
    "# check for and delete index if already exists\n",
    "index_name = 'demo24'\n",
    "if index_name in pc.list_indexes().names():\n",
    "  pc.delete_index(index_name)\n",
    "# create a new index\n",
    "pc.create_index(\n",
    " index_name,\n",
    " dimension=1536, # dimensionality of OpenAI-embeddings\n",
    " metric='dotproduct',spec=spec)\n",
    "\n",
    "# wait for index to be initialized\n",
    "while not pc.describe_index(index_name).status['ready']:\n",
    " time.sleep(1)\n"
   ]
  },
  {
   "cell_type": "markdown",
   "metadata": {
    "id": "KDAkedNZIWB6"
   },
   "source": [
    "### Implementing Document Similarity Search Using Pinecone and Langchain\n",
    "\n",
    "**Vector Store instance Initialization**: Initializes a Pinecone vector store with documents and OpenAI embeddings\n",
    "\n",
    "**Similarity Search Function**: Defines a function to perform similarity searches in the document index, with an option to return similarity scores.\n",
    "\n",
    "**User Interaction**: Collects user queries, retrieves similar documents based on these queries, and displays them in a formatted manner."
   ]
  },
  {
   "cell_type": "code",
   "execution_count": 15,
   "metadata": {
    "colab": {
     "base_uri": "https://localhost:8080/"
    },
    "id": "Oa9UT9ReGAa6",
    "outputId": "1b5feadf-97aa-4c02-89cf-6875a12f3b7e"
   },
   "outputs": [
    {
     "name": "stdout",
     "output_type": "stream",
     "text": [
      "Query: What is supply chain management?\n",
      "Document 1:\n",
      "\n",
      "Defining Supply Chain\n",
      "Management in the Journal of Business Logistics (Mentzer, John\n",
      "T.,William DeWitt, James S. Keebler, Soonhong Min, Nancy\n",
      "W.Nix, Carlo D. Smith, and Zach G. Zacharia, 2001,\n",
      "“Defining Supply Chain Management,” Journal of Business\n",
      "Logistics ,Vol. 22, No. 2, p. 18).\n",
      "3Basic Concepts of Supply Chain ManagementHugos_ch1.1.qxd  11/5/02  11:30 AM  Page 3\n",
      "----------------------------------------------------------------------------------------------------\n",
      "Document 2:\n",
      "\n",
      "Defining Supply Chain\n",
      "Management in the Journal of Business Logistics (Mentzer, John\n",
      "T.,William DeWitt, James S. Keebler, Soonhong Min, Nancy\n",
      "W.Nix, Carlo D. Smith, and Zach G. Zacharia, 2001,\n",
      "“Defining Supply Chain Management,” Journal of Business\n",
      "Logistics ,Vol. 22, No. 2, p. 18).\n",
      "3Basic Concepts of Supply Chain ManagementHugos_ch1.1.qxd  11/5/02  11:30 AM  Page 3\n",
      "----------------------------------------------------------------------------------------------------\n",
      "Document 3:\n",
      "\n",
      "production, and delivery of a product to market. Supply chain man-agement is the coordination of production, inventory, location, andtransportation among the participants in a supply chain to achieve thebest mix of responsiveness and efficiency for the market being served.The goal of supply chain management is to increase sales of goods andservices to the final, end use customer while at the same time reducingboth inventory and operating expenses.\n",
      "----------------------------------------------------------------------------------------------------\n",
      "Document 4:\n",
      "\n",
      "production, and delivery of a product to market. Supply chain man-agement is the coordination of production, inventory, location, andtransportation among the participants in a supply chain to achieve thebest mix of responsiveness and efficiency for the market being served.The goal of supply chain management is to increase sales of goods andservices to the final, end use customer while at the same time reducingboth inventory and operating expenses.\n",
      "----------------------------------------------------------------------------------------------------\n",
      "Document 5:\n",
      "\n",
      "The term “supply chain management” arose in the late 1980s and\n",
      "came into widespread use in the 1990s.Prior to that time,businesses usedterms such as “logistics” and “operations management” instead. Somedefinitions of a supply chain are offered below:\n",
      "•“A supply chain is the alignment of firms that bring products\n",
      "or services to market.”—from Lambert, Stock, and Ellram in their book \n",
      "Fundamentals of Logistics Management (Lambert,\n",
      "Douglas M., James R. Stock, and Lisa M. Ellram, 1998,\n",
      "----------------------------------------------------------------------------------------------------\n",
      "Document 6:\n",
      "\n",
      "The term “supply chain management” arose in the late 1980s and\n",
      "came into widespread use in the 1990s.Prior to that time,businesses usedterms such as “logistics” and “operations management” instead. Somedefinitions of a supply chain are offered below:\n",
      "•“A supply chain is the alignment of firms that bring products\n",
      "or services to market.”—from Lambert, Stock, and Ellram in their book \n",
      "Fundamentals of Logistics Management (Lambert,\n",
      "Douglas M., James R. Stock, and Lisa M. Ellram, 1998,\n"
     ]
    }
   ],
   "source": [
    "from langchain_pinecone import PineconeVectorStore\n",
    "\n",
    "docsearch = PineconeVectorStore.from_documents(docs, embedding=OpenAIEmbeddings(), index_name=index_name)\n",
    "\n",
    "def get_similiar_docs(query, k=6, score=False):\n",
    "  if score:\n",
    "    similar_docs = docsearch.similarity_search_with_score(query, k=k)\n",
    "  else:\n",
    "    similar_docs = docsearch.similarity_search(query, k=k)\n",
    "  return similar_docs\n",
    "\n",
    "query=input(\"Query: \")\n",
    "retrieved_docs=get_similiar_docs(query)\n",
    "pretty_print_docs(retrieved_docs)\n"
   ]
  },
  {
   "cell_type": "code",
   "execution_count": 18,
   "metadata": {},
   "outputs": [
    {
     "name": "stdout",
     "output_type": "stream",
     "text": [
      "Query: What is supply chain management?\n",
      "Answer: Supply chain management is the coordination of production, inventory, location, and transportation among the participants in a supply chain to achieve the best mix of responsiveness and efficiency for the market being served. The goal is to increase sales of goods and services to the final customer while reducing inventory and operating expenses.\n"
     ]
    }
   ],
   "source": [
    "from langchain_openai import ChatOpenAI\n",
    "from langchain_core.documents import Document\n",
    "from langchain_core.prompts import ChatPromptTemplate\n",
    "from langchain.chains.combine_documents import create_stuff_documents_chain\n",
    "from langchain_core.output_parsers import StrOutputParser\n",
    "\n",
    "llm = ChatOpenAI()\n",
    "\n",
    "template = \"\"\"\n",
    "Answer the question based only on the following context: {context}\n",
    "Question: {question}\n",
    "\"\"\"\n",
    "\n",
    "prompt = ChatPromptTemplate.from_template(template)\n",
    "\n",
    "chain = create_stuff_documents_chain(llm, prompt, output_parser=StrOutputParser())\n",
    "\n",
    "ans=chain.invoke({\"question\": query, \"context\": retrieved_docs})\n",
    "print(\"Query: \"+query)\n",
    "print(\"Answer: \"+ans)"
   ]
  },
  {
   "cell_type": "code",
   "execution_count": null,
   "metadata": {},
   "outputs": [],
   "source": []
  }
 ],
 "metadata": {
  "colab": {
   "provenance": []
  },
  "kernelspec": {
   "display_name": "Python 3 (ipykernel)",
   "language": "python",
   "name": "python3"
  },
  "language_info": {
   "codemirror_mode": {
    "name": "ipython",
    "version": 3
   },
   "file_extension": ".py",
   "mimetype": "text/x-python",
   "name": "python",
   "nbconvert_exporter": "python",
   "pygments_lexer": "ipython3",
   "version": "3.11.5"
  }
 },
 "nbformat": 4,
 "nbformat_minor": 1
}
