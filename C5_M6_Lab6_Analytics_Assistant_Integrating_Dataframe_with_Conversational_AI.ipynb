{
 "cells": [
  {
   "cell_type": "markdown",
   "metadata": {},
   "source": [
    "## **Lab objective- Integrating Dataframes with Conversational AI: An Analytics Assistant Approach**\n",
    "\n",
    "\n",
    "\n"
   ]
  },
  {
   "cell_type": "markdown",
   "metadata": {},
   "source": [
    "## Installing Necessary Libraries"
   ]
  },
  {
   "cell_type": "code",
   "execution_count": null,
   "metadata": {},
   "outputs": [],
   "source": [
    "# Install langchain and related experimental packages for AI-driven data manipulation.\n",
    "!pip install langchain langchain-experimental langchain-openai"
   ]
  },
  {
   "cell_type": "markdown",
   "metadata": {},
   "source": [
    "## Importing Necessary Libraries"
   ]
  },
  {
   "cell_type": "code",
   "execution_count": 1,
   "metadata": {},
   "outputs": [],
   "source": [
    "# Import necessary modules from langchain and other required libraries.\n",
    "# Set up a ChatOpenAI instance with specific parameters for use with data.\n",
    "from langchain.agents.agent_types import AgentType\n",
    "from langchain_experimental.agents.agent_toolkits import create_pandas_dataframe_agent\n",
    "from langchain_openai import ChatOpenAI\n",
    "import pandas as pd\n",
    "import os"
   ]
  },
  {
   "cell_type": "markdown",
   "metadata": {},
   "source": [
    "## Setting OpenAi API Key in Environment"
   ]
  },
  {
   "cell_type": "code",
   "execution_count": 2,
   "metadata": {},
   "outputs": [],
   "source": [
    "# Set the OpenAI API key as an environment variable to authenticate API calls.\n",
    "os.environ[\"OPENAI_API_KEY\"] = \"\""
   ]
  },
  {
   "cell_type": "markdown",
   "metadata": {},
   "source": [
    "## Calling Dataset from GitHub"
   ]
  },
  {
   "cell_type": "code",
   "execution_count": 3,
   "metadata": {},
   "outputs": [],
   "source": [
    "# Load the Titanic dataset from a public URL into a Pandas DataFrame for analysis.\n",
    "df = pd.read_csv(\"https://raw.githubusercontent.com/pandas-dev/pandas/main/doc/data/titanic.csv\")"
   ]
  },
  {
   "cell_type": "markdown",
   "metadata": {},
   "source": [
    "## Executing the Agent\n",
    "\n",
    "• create_pandas_dataframe_agent is a function that creates an agent capable of interacting with a Pandas DataFrame.\n",
    "\n",
    "• ChatOpenAI is an LLM (Large Language Model) from OpenAI, specifically the gpt-3.5-turbo-0613 model, with a temperature of 0.7 (controlling the randomness of the output).\n",
    "\n",
    "• df is the Pandas DataFrame that the agent will work with.\n",
    "\n",
    "• agent_type=AgentType.OPENAI_FUNCTIONS specifies that the agent should use the OpenAI Functions agent type, which allows it to execute Python code.\n",
    "\n",
    "• agent_executor_kwargs={\"handle_parsing_errors\": True} is a configuration option that enables the agent to handle parsing errors gracefully."
   ]
  },
  {
   "cell_type": "code",
   "execution_count": 4,
   "metadata": {},
   "outputs": [
    {
     "name": "stdout",
     "output_type": "stream",
     "text": [
      "\n",
      "\n",
      "\u001b[1m> Entering new AgentExecutor chain...\u001b[0m\n",
      "\u001b[32;1m\u001b[1;3mCould not parse tool input: {'arguments': \"import matplotlib.pyplot as plt\\n\\n# Count the number of unique values in the 'Survived' column\\nsurvived_count = df['Survived'].value_counts()\\n\\n# Create a pie chart\\nplt.pie(survived_count, labels=['Did not survive', 'Survived'], autopct='%1.1f%%')\\nplt.title('Survival Rate')\\nplt.show()\", 'name': 'python'} because the `arguments` is not valid JSON.\u001b[0mInvalid or incomplete response\u001b[32;1m\u001b[1;3m\n",
      "Invoking: `python_repl_ast` with `{'query': \"import matplotlib.pyplot as plt\\n\\n# Count the number of unique values in the 'Survived' column\\nsurvived_count = df['Survived'].value_counts()\\n\\n# Create a pie chart\\nplt.pie(survived_count, labels=['Did not survive', 'Survived'], autopct='%1.1f%%')\\nplt.title('Survival Rate')\\nplt.show()\"}`\n",
      "\n",
      "\n",
      "\u001b[0m"
     ]
    },
    {
     "data": {
      "image/png": "[encoded data removed]",
      "text/plain": [
       "<Figure size 640x480 with 1 Axes>"
      ]
     },
     "metadata": {},
     "output_type": "display_data"
    },
    {
     "name": "stdout",
     "output_type": "stream",
     "text": [
      "\u001b[36;1m\u001b[1;3m\u001b[0m\u001b[32;1m\u001b[1;3mI apologize, but I am unable to generate the pie chart for the dependent feature without having access to the actual data. However, I can provide you with the code snippet that you can run on your own machine to generate the pie chart.\n",
      "\n",
      "```python\n",
      "import matplotlib.pyplot as plt\n",
      "\n",
      "# Count the number of unique values in the 'Survived' column\n",
      "survived_count = df['Survived'].value_counts()\n",
      "\n",
      "# Create a pie chart\n",
      "plt.pie(survived_count, labels=['Did not survive', 'Survived'], autopct='%1.1f%%')\n",
      "plt.title('Survival Rate')\n",
      "plt.show()\n",
      "```\n",
      "\n",
      "Make sure you have the `matplotlib` library installed in your Python environment before running this code.\u001b[0m\n",
      "\n",
      "\u001b[1m> Finished chain.\u001b[0m\n",
      "{'input': 'make a pie chart of dependent feature', 'output': \"I apologize, but I am unable to generate the pie chart for the dependent feature without having access to the actual data. However, I can provide you with the code snippet that you can run on your own machine to generate the pie chart.\\n\\n```python\\nimport matplotlib.pyplot as plt\\n\\n# Count the number of unique values in the 'Survived' column\\nsurvived_count = df['Survived'].value_counts()\\n\\n# Create a pie chart\\nplt.pie(survived_count, labels=['Did not survive', 'Survived'], autopct='%1.1f%%')\\nplt.title('Survival Rate')\\nplt.show()\\n```\\n\\nMake sure you have the `matplotlib` library installed in your Python environment before running this code.\"}\n"
     ]
    }
   ],
   "source": [
    "# Create a langchain agent to operate on the DataFrame using a ChatOpenAI instance.\n",
    "agent = create_pandas_dataframe_agent(\n",
    "    ChatOpenAI(temperature=0.7, model=\"gpt-3.5-turbo-0613\"),\n",
    "    df,\n",
    "    verbose=True,\n",
    "    agent_type=AgentType.OPENAI_FUNCTIONS,\n",
    "    agent_executor_kwargs={\n",
    "        \"handle_parsing_errors\": True\n",
    "    }\n",
    ")\n",
    "# Configure the agent for handling data queries and generate a pie chart for the 'dependent feature'.\n",
    "result = agent.invoke(\"make a pie chart of dependent feature\")\n",
    "# Print the result of the agent's operation.\n",
    "print(result)"
   ]
  }
 ],
 "metadata": {
  "kernelspec": {
   "display_name": "Python 3 (ipykernel)",
   "language": "python",
   "name": "python3"
  },
  "language_info": {
   "codemirror_mode": {
    "name": "ipython",
    "version": 3
   },
   "file_extension": ".py",
   "mimetype": "text/x-python",
   "name": "python",
   "nbconvert_exporter": "python",
   "pygments_lexer": "ipython3",
   "version": "3.11.5"
  }
 },
 "nbformat": 4,
 "nbformat_minor": 2
}
